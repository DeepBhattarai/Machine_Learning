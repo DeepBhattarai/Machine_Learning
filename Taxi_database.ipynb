{
  "nbformat": 4,
  "nbformat_minor": 0,
  "metadata": {
    "colab": {
      "provenance": [],
      "authorship_tag": "ABX9TyOPTR9Ntt84np6yjFDjL+jp",
      "include_colab_link": true
    },
    "kernelspec": {
      "name": "python3",
      "display_name": "Python 3"
    },
    "language_info": {
      "name": "python"
    }
  },
  "cells": [
    {
      "cell_type": "markdown",
      "metadata": {
        "id": "view-in-github",
        "colab_type": "text"
      },
      "source": [
        "<a href=\"https://colab.research.google.com/github/fanatic8/Machine_Learning/blob/main/Taxi_database.ipynb\" target=\"_parent\"><img src=\"https://colab.research.google.com/assets/colab-badge.svg\" alt=\"Open In Colab\"/></a>"
      ]
    },
    {
      "cell_type": "code",
      "execution_count": 4,
      "metadata": {
        "colab": {
          "base_uri": "https://localhost:8080/"
        },
        "id": "eeUihZm51DQN",
        "outputId": "7b47beaa-64cf-4679-f282-e6ff9e9de5e1"
      },
      "outputs": [
        {
          "output_type": "stream",
          "name": "stdout",
          "text": [
            "Requirement already satisfied: pandas in /usr/local/lib/python3.11/dist-packages (2.2.2)\n",
            "Requirement already satisfied: numpy>=1.23.2 in /usr/local/lib/python3.11/dist-packages (from pandas) (1.26.4)\n",
            "Requirement already satisfied: python-dateutil>=2.8.2 in /usr/local/lib/python3.11/dist-packages (from pandas) (2.8.2)\n",
            "Requirement already satisfied: pytz>=2020.1 in /usr/local/lib/python3.11/dist-packages (from pandas) (2024.2)\n",
            "Requirement already satisfied: tzdata>=2022.7 in /usr/local/lib/python3.11/dist-packages (from pandas) (2025.1)\n",
            "Requirement already satisfied: six>=1.5 in /usr/local/lib/python3.11/dist-packages (from python-dateutil>=2.8.2->pandas) (1.17.0)\n"
          ]
        }
      ],
      "source": [
        "%pip install pandas\n"
      ]
    },
    {
      "cell_type": "code",
      "source": [
        "import pandas as pd\n",
        "import sqlite3"
      ],
      "metadata": {
        "id": "wCkyJa7l1UuN"
      },
      "execution_count": 13,
      "outputs": []
    },
    {
      "cell_type": "code",
      "source": [
        "import pandas as pd\n",
        "import sqlite3\n",
        "def pandas_to_database():\n",
        "# Load CSV into Pandas DataFrame\n",
        "  csv_file = \"https://raw.githubusercontent.com/fanatic8/Machine_Learning/refs/heads/main/taxi_trip_pricing.csv\"  # Change to your CSV file\n",
        "  df = pd.read_csv(csv_file)\n",
        "\n",
        "# Connect to SQLite database (or create a new one)\n",
        "  db_file = \"Taxi_database.db\"\n",
        "  conn = sqlite3.connect(db_file)\n",
        "\n",
        "# Write DataFrame to SQLite table\n",
        "  table_name = \"Taxi\"  # Change table name as needed\n",
        "  df.to_sql(table_name, conn, if_exists=\"replace\", index=False)\n",
        "\n",
        "# Verify: Read from database\n",
        "  df_from_db = pd.read_sql(f\"SELECT * FROM {table_name}\", conn)\n",
        "\n",
        "# Close connection\n",
        "  conn.close()\n",
        "\n",
        "# Display first few rows\n",
        "  df_from_db.head()\n",
        "\n",
        "if __name__ == \"__main__\":\n",
        "  pandas_to_database()"
      ],
      "metadata": {
        "id": "7IVHL7sZ364s"
      },
      "execution_count": 39,
      "outputs": []
    }
  ]
}